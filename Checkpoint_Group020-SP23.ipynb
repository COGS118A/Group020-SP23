
   "attachments": {},
   "cell_type": "markdown",
   "metadata": {},
   "source": [
    "# Names\n",
    "\n",
    "Hopefully your team is at least this good. Obviously you should replace these with your names.\n",
    "\n",
    "- Ashesh Kaji\n",
    "- Megha Pareek\n",
    "- Jesus Mendez\n",
    "- Masiah Manzano\n",
    "- Alan Trapenard"
   ]
  },
  {
   "attachments": {},
   "cell_type": "markdown",
   "metadata": {},
   "source": [
    "# Abstract \n",
    "This section should be short and clearly stated. It should be a single paragraph <200 words.  It should summarize: \n",
    "- what your goal/problem is\n",
    "- what the data used represents and how they are measured\n",
    "- what you will be doing with the data\n",
    "- how performance/success will be measured\n",
    "\n",
    "## Response\n",
    "The goal of this project is to predict the price of a house based on the features of the house. We will be using the King County House Sales dataset. The dataset contains information about houses sold in King County, Washington between May 2014 and May 2015. The dataset contains 21,613 observations and 21 variables. The dataset contains information about the location of the house, the number of bedrooms, bathrooms, floors, the condition of the house, the grade of the house, the square footage of the house, the square footage of the lot, the year the house was built, the year the house was renovated, the zipcode of the house, the latitude and longitude of the house, and the price of the house. We will be using the features of the house to predict the price of the house. We will be using the mean squared error to measure the performance of our model tentatively, as we will reconsider metrics as we work upon the data and see what results we come across.\n"
   ]
  },
  {
   "attachments": {},
   "cell_type": "markdown",
   "metadata": {},
   "source": [
    "# Background\n",
    "Housing for students has been a long going issue for many years and what made us want to create a way to help students find housing and have what they need to make a certain decision, is because we deal with this first hand. We know numerous other students who struggle finding a good home. This project is not necessarily to find the cheapest housing for a student, but a tool to be transparent for a student searching for housing and what to expect. There are many factors to what can come with students struggling with finding good housing. Students experienced the struggles of student loans and finding affordable housing<a name=\"housing\"></a>1.[^](#housing). In 2016, Gene Aromin, Janice Eberly, and John Mondragon, mention there was a 30% decline in housing but a 38% increase in student debt. Situations like this force students to make horrible financial decisions when it comes to housing because there is no real “upfront” cost and numerous hidden fees. What we want to do with this project is eliminate this anonymity and be very forward with students so they know what financial situation they will be getting themselves into. When covid struck, students were forced to find housing off campus, specifically at the start of the virus when not much was known<a name=\"covid\"></a>2.[^](#covid). Numerous students were forced to cancel contracts and forced to find housing for themselves. Many of these students made rash decisions and just chose housing due to desperation of not knowing what to do. With this project, we aim to eliminate students making rash decisions and to make housing a less stressful choice. Lastly, we want to help students eliminate the need for uncertainty in choosing how to balance their financial plans. UC universities are no stranger to having numerous students who struggle finding housing. But when they do find housing, the students in the long run end up struggling to find and save to pay for said housing<a name=\"jobs\"></a>3.[^](#jobs). Although this project will not help students find jobs, it will however, help students have that extra layer of confirmation on what they will need to do to save enough money to pay for the overall rent since our project aims to have full disclosure on what will be owed by the students and have no hidden fees whatsoever. In doing so, we hope to eliminate the need for students to suffer on finding a suitable job to pay for fees they may have not expected before commiting to a housing contract.\n"
   ]
  },
  {
   "attachments": {},
   "cell_type": "markdown",
   "metadata": {},
   "source": [
    "# Problem Statement\n",
    "\n",
    "Attempting to navigate the ever-complicated and confusing real estate market as a recent college graduate with lofty goals and a desire to enter the world of independence and self-reliability can be quite a demoralizing experience.  Websites like Zillow, Redfin, and Apartments.com certainly don't make this issue any easier as they allow you to filter residences by several parameters but either way will still prioritize showing you the residences that are recommended by them or heavy outliers (Ex: very high square footage but one bedroom and bathroom or extremely low square footage but several rooms) as those are the residences they are trying to sell the most.\n",
    "\n",
    "As a result of this, it can be extremely difficult to understand what you have access to based on your budget or what your budget should look like based on what you want.  This is the precise issue we are attempting to solve.\n",
    "Our project is geared towards absolute transparency.  Our goal is to be able to present realistic price ranges or residence features (bedrooms, bathrooms, etc.) based on the input of the consumer.  Our target audience are recent college graduates who are just beginning their journey into the real world and desire to collect realistic information on their potential housing to feel confident in their decisions instead of being thrown whatever property real estate websites are trying to get off their hands.\n",
    "The results of using our project will be representable in two different ways: a cost value window based on the desired residence features, or a set of average residence features based on the desired price of the residence.\n",
    "To speak to the use of ML in this project, we will be using Linear Regression as well as validation and generalizability measures to make accurate predictions for each of the aforementioned result categories.  The goal of the project isn't just to base everything off of our initial dataset but to provide a framework for future housing cost predictions to allow our target audience to utilize our program even if they are only looking for a property two years ahead of time."
   ]
  },
  {
   "cell_type": "markdown",
   "metadata": {},
   "source": [
    "# Data\n",
    "\n",
    "UPDATED FROM PROPOSAL!\n",
    "\n",
    "You should have obtained and cleaned (if necessary) data you will use for this project.\n",
    "\n",
    "Please give the following infomration for each dataset you are using\n",
    "- link/reference to obtain it\n",
    "- description of the size of the dataset (# of variables, # of observations)\n",
    "- what an observation consists of\n",
    "- what some critical variables are, how they are represented\n",
    "- any special handling, transformations, cleaning, etc you have done should be demonstrated here!\n"
   ]
  },
  {
   "cell_type": "markdown",
   "metadata": {},
   "source": [
    "# Proposed Solution\n",
    "\n",
    "In this section, clearly describe a solution to the problem. The solution should be applicable to the project domain and appropriate for the dataset(s) or input(s) given. Provide enough detail (e.g., algorithmic description and/or theoretical properties) to convince us that your solution is applicable. Make sure to describe how the solution will be tested.  \n",
    "\n",
    "If you know details already, describe how (e.g., library used, function calls) you plan to implement the solution in a way that is reproducible.\n",
    "\n",
    "If it is appropriate to the problem statement, describe a benchmark model<a name=\"sota\"></a>[<sup>[3]</sup>](#sotanote) against which your solution will be compared. "
   ]
  },
  {
   "cell_type": "markdown",
   "metadata": {},
   "source": [
    "# Evaluation Metrics\n",
    "\n",
    "Propose at least one evaluation metric that can be used to quantify the performance of both the benchmark model and the solution model. The evaluation metric(s) you propose should be appropriate given the context of the data, the problem statement, and the intended solution. Describe how the evaluation metric(s) are derived and provide an example of their mathematical representations (if applicable). Complex evaluation metrics should be clearly defined and quantifiable (can be expressed in mathematical or logical terms)."
   ]
  },
  {
   "cell_type": "markdown",
   "metadata": {},
   "source": [
    "# Preliminary results\n",
    "\n",
    "NEW SECTION!\n",
    "\n",
    "Please show any preliminary results you have managed to obtain.\n",
    "\n",
    "Examples would include:\n",
    "- Analyzing the suitability of a dataset or alogrithm for prediction/solving your problem \n",
    "- Performing feature selection or hand-designing features from the raw data. Describe the features available/created and/or show the code for selection/creation\n",
    "- Showing the performance of a base model/hyper-parameter setting.  Solve the task with one \"default\" algorithm and characterize the performance level of that base model.\n",
    "- Learning curves or validation curves for a particular model\n",
    "- Tables/graphs showing the performance of different models/hyper-parameters\n",
    "\n"
   ]
  },
  {
   "cell_type": "markdown",
   "metadata": {},
   "source": [
    "# Ethics & Privacy"
   ]
  },
  {
   "cell_type": "markdown",
   "metadata": {},
   "source": [
    "If your project has obvious potential concerns with ethics or data privacy discuss that here.  Almost every ML project put into production can have ethical implications if you use your imagination. Use your imagination.\n",
    "\n",
    "Even if you can't come up with an obvious ethical concern that should be addressed, you should know that a large number of ML projects that go into producation have unintended consequences and ethical problems once in production. How will your team address these issues?\n",
    "\n",
    "Consider a tool to help you address the potential issues such as https://deon.drivendata.org"
   ]
  },
  {
   "cell_type": "markdown",
   "metadata": {},
   "source": [
    "# Team Expectations "
   ]
  },
  {
   "cell_type": "markdown",
   "metadata": {},
   "source": [
    "Put things here that cement how you will interact/communicate as a team, how you will handle conflict and difficulty, how you will handle making decisions and setting goals/schedule, how much work you expect from each other, how you will handle deadlines, etc...\n",
    "* *Team Expectation 1*\n",
    "* *Team Expectation 2*\n",
    "* *Team Expecation 3*\n",
    "* ..."
   ]
  },
  {
   "cell_type": "markdown",
   "metadata": {},
   "source": [
    "# Project Timeline Proposal"
   ]
  },
  {
   "cell_type": "markdown",
   "metadata": {},
   "source": [
    "UPDATE THE PROPOSAL TIMELINE ACCORDING TO WHAT HAS ACTUALLY HAPPENED AND HOW IT HAS EFFECTED YOUR FUTURE PLANS\n",
    "\n",
    "| Meeting Date  | Meeting Time| Completed Before Meeting  | Discuss at Meeting |\n",
    "|---|---|---|---|\n",
    "| 1/20  |  1 PM |  Brainstorm topics/questions (all)  | Determine best form of communication; Discuss and decide on final project topic; discuss hypothesis; begin background research | \n",
    "| 1/26  |  10 AM |  Do background research on topic (Pelé) | Discuss ideal dataset(s) and ethics; draft project proposal | \n",
    "| 2/1  | 10 AM  | Edit, finalize, and submit proposal; Search for datasets (Beckenbaur)  | Discuss Wrangling and possible analytical approaches; Assign group members to lead each specific part   |\n",
    "| 2/14  | 6 PM  | Import & Wrangle Data ,do some EDA (Maradonna) | Review/Edit wrangling/EDA; Discuss Analysis Plan   |\n",
    "| 2/23  | 12 PM  | Finalize wrangling/EDA; Begin programming for project (Cruyff) | Discuss/edit project code; Complete project |\n",
    "| 3/13  | 12 PM  | Complete analysis; Draft results/conclusion/discussion (Carlos)| Discuss/edit full project |\n",
    "| 3/19  | Before 11:59 PM  | NA | Turn in Final Project  |"
   ]
  },
  {
   "cell_type": "markdown",
   "metadata": {},
   "source": [
    "# Footnotes\n",
    "<a name=\"lorenznote\"></a>1.[^](#lorenz): Lorenz, T. (9 Dec 2021) Birds Aren’t Real, or Are They? Inside a Gen Z Conspiracy Theory. *The New York Times*. https://www.nytimes.com/2021/12/09/technology/birds-arent-real-gen-z-misinformation.html<br> \n",
    "<a name=\"admonishnote\"></a>2.[^](#admonish): Also refs should be important to the background, not some randomly chosen vaguely related stuff. Include a web link if possible in refs as above.<br>\n",
    "<a name=\"sotanote\"></a>3.[^](#sota): Perhaps the current state of the art solution such as you see on [Papers with code](https://paperswithcode.com/sota). Or maybe not SOTA, but rather a standard textbook/Kaggle solution to this kind of problem\n"
   ]
  },
  {
   "cell_type": "code",
   "execution_count": null,
   "metadata": {},
   "outputs": [],
   "source": []
  }
 ],
 "metadata": {
  "kernelspec": {
   "display_name": "Python 3",
   "language": "python",
   "name": "python3"
  },
  "language_info": {
   "codemirror_mode": {
    "name": "ipython",
    "version": 3
   },
   "file_extension": ".py",
   "mimetype": "text/x-python",
   "name": "python",
   "nbconvert_exporter": "python",
   "pygments_lexer": "ipython3",
   "version": "3.8.8"
  }
 },
 "nbformat": 4,
 "nbformat_minor": 2
}
