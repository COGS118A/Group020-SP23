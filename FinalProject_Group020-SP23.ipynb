{
 "cells": [
  {
   "cell_type": "markdown",
   "metadata": {},
   "source": [
    "# COGS 118A - Final Project"
   ]
  },
  {
   "cell_type": "markdown",
   "metadata": {},
   "source": [
    "# Group 020's Project\n",
    "\n",
    "## Group members\n",
    "\n",
    "- Ashesh Kaji\n",
    "- Megha Pareek\n",
    "- Jesus Mendez\n",
    "- Masiah Manzano\n",
    "- Alan Trapenard"
   ]
  },
  {
   "cell_type": "markdown",
   "metadata": {},
   "source": [
    "## Abstract\n",
    "The goal of this project is to predict the price of a house based on the features of the house. We will be using the King County House Sales dataset. The dataset contains information about houses sold in King County, Washington between May 2014 and May 2015. The dataset contains 21,613 observations and 21 variables. The dataset contains information about the location of the house, the number of bedrooms, bathrooms, floors, the condition of the house, the grade of the house, the square footage of the house, the square footage of the lot, the year the house was built, the year the house was renovated, the zipcode of the house, the latitude and longitude of the house, and the price of the house. We will be using the features of the house to predict the price of the house. We will be using the mean squared error to measure the performance of our model tentatively, as we will reconsider metrics as we work upon the data and see what results we come across.\n"
   ]
  },
  {
   "cell_type": "markdown",
   "metadata": {},
   "source": [
    "# Background\n",
    "Housing for students has been a long going issue for many years and what made us want to create a way to help students find housing and have what they need to make a certain decision, is because we deal with this first hand. We know numerous other students who struggle finding a good home. This project is not necessarily to find the cheapest housing for a student, but a tool to be transparent for a student searching for housing and what to expect. There are many factors to what can come with students struggling with finding good housing. But before we dive into this, let’s look at a glimpse of what UCSD students have to deal with<a name=\"UCSD\"></a>[1].[^](#UCSD). The title alone should be a plain example of how hard it is already for students to get housing to simply go to school. There should not be a competition to get a basic human need, which is a home. In 2022, Stefanie Holden took time to investigate how difficult housing situations are for students. This ultimately motivated us to not just focus on UCSD, but all students as a whole, because this issue is not just concentrated here, but everywhere. Students experienced the struggles of student loans and finding affordable housing<a name=\"housing\"></a>[2].[^](#housing). In 2016, Gene Aromin, Janice Eberly, and John Mondragon, mention there was a 30% decline in housing but a 38% increase in student debt. Situations like this force students to make horrible financial decisions when it comes to housing because there is no real “upfront” cost and numerous hidden fees. What we want to do with this project is eliminate this anonymity and be very forward with students so they know what financial situation they will be getting themselves into. When covid struck, students were forced to find housing off campus, specifically at the start of the virus when not much was known<a name=\"covid\"></a>[3].[^](#covid). Numerous students were forced to cancel contracts and forced to find housing for themselves. Many of these students made rash decisions and just chose housing due to desperation of not knowing what to do. With this project, we aim to eliminate students making rash decisions and to make housing a less stressful choice. Lastly, we want to help students eliminate the need for uncertainty in choosing how to balance their financial plans. UC universities are no stranger to having numerous students who struggle finding housing. But when they do find housing, the students in the long run end up struggling to find and save to pay for said housing<a name=\"jobs\"></a>[4].[^](#jobs). Although this project will not help students find jobs, it will however, help students have that extra layer of confirmation on what they will need to do to save enough money to pay for the overall rent since our project aims to have full disclosure on what will be owed by the students and have no hidden fees whatsoever. In doing so, we hope to eliminate the need for students to suffer on finding a suitable job to pay for fees they may have not expected before commiting to a housing contract.\n"
   ]
  },
  {
   "cell_type": "markdown",
   "metadata": {},
   "source": [
    "# Problem Statement\n",
    "\n",
    "Attempting to navigate the ever-complicated and confusing real estate market as a recent college graduate with lofty goals and a desire to enter the world of independence and self-reliability can be quite a demoralizing experience.  Websites like Zillow, Redfin, and Apartments.com certainly don't make this issue any easier as they allow you to filter residences by several parameters but either way will still prioritize showing you the residences that are recommended by them or heavy outliers (Ex: very high square footage but one bedroom and bathroom or extremely low square footage but several rooms) as those are the residences they are trying to sell the most.\n",
    "\n",
    "As a result of this, it can be extremely difficult to understand what you have access to based on your budget or what your budget should look like based on what you want.  This is the precise issue we are attempting to solve.\n",
    "Our project is geared towards absolute transparency.  Our goal is to be able to present realistic price ranges or residence features (bedrooms, bathrooms, etc.) based on the input of the consumer.  Our target audience are recent college graduates who are just beginning their journey into the real world and desire to collect realistic information on their potential housing to feel confident in their decisions instead of being thrown whatever property real estate websites are trying to get off their hands.\n",
    "The results of using our project will be representable in two different ways: a cost value window based on the desired residence features, or a set of average residence features based on the desired price of the residence.\n",
    "To speak to the use of ML in this project, we will be using Linear Regression as well as validation and generalizability measures to make accurate predictions for each of the aforementioned result categories.  The goal of the project isn't just to base everything off of our initial dataset but to provide a framework for future housing cost predictions to allow our target audience to utilize our program even if they are only looking for a property two years ahead of time."
   ]
  },
  {
   "cell_type": "markdown",
   "metadata": {},
   "source": [
    "# Data\n",
    "\n",
    "Detail how/where you obtained the data and cleaned it (if necessary)\n",
    "\n",
    "If the data cleaning process is very long (e.g., elaborate text processing) consider describing it briefly here in text, and moving the actual clearning process to another notebook in your repo (include a link here!).  The idea behind this approach: this is a report, and if you blow up the flow of the report to include a lot of code it makes it hard to read.\n",
    "\n",
    "Please give the following infomration for each dataset you are using\n",
    "- link/reference to obtain it\n",
    "- description of the size of the dataset (# of variables, # of observations)\n",
    "- what an observation consists of\n",
    "- what some critical variables are, how they are represented\n",
    "- any special handling, transformations, cleaning, etc you have done should be demonstrated here!\n"
   ]
  },
  {
   "cell_type": "markdown",
   "metadata": {},
   "source": [
    "# Proposed Solution\n",
    "\n",
    "In this section, clearly describe a solution to the problem. The solution should be applicable to the project domain and appropriate for the dataset(s) or input(s) given. Provide enough detail (e.g., algorithmic description and/or theoretical properties) to convince us that your solution is applicable. Make sure to describe how the solution will be tested.  \n",
    "\n",
    "If you know details already, describe how (e.g., library used, function calls) you plan to implement the solution in a way that is reproducible.\n",
    "\n",
    "If it is appropriate to the problem statement, describe a benchmark model<a name=\"sota\"></a>[<sup>[3]</sup>](#sotanote) against which your solution will be compared. "
   ]
  },
  {
   "cell_type": "markdown",
   "metadata": {},
   "source": [
    "# Evaluation Metrics\n",
    "\n",
    "Propose at least one evaluation metric that can be used to quantify the performance of both the benchmark model and the solution model. The evaluation metric(s) you propose should be appropriate given the context of the data, the problem statement, and the intended solution. Describe how the evaluation metric(s) are derived and provide an example of their mathematical representations (if applicable). Complex evaluation metrics should be clearly defined and quantifiable (can be expressed in mathematical or logical terms)."
   ]
  },
  {
   "cell_type": "markdown",
   "metadata": {},
   "source": [
    "# Results\n",
    "\n",
    "You may have done tons of work on this. Not all of it belongs here. \n",
    "\n",
    "Reports should have a __narrative__. Once you've looked through all your results over the quarter, decide on one main point and 2-4 secondary points you want us to understand. Include the detailed code and analysis results of those points only; you should spend more time/code/plots on your main point than the others.\n",
    "\n",
    "If you went down any blind alleys that you later decided to not pursue, please don't abuse the TAs time by throwing in 81 lines of code and 4 plots related to something you actually abandoned.  Consider deleting things that are not important to your narrative.  If its slightly relevant to the narrative or you just want us to know you tried something, you could keep it in by summarizing the result in this report in a sentence or two, moving the actual analysis to another file in your repo, and providing us a link to that file.\n",
    "\n",
    "### Subsection 1\n",
    "\n",
    "You will likely have different subsections as you go through your report. For instance you might start with an analysis of the dataset/problem and from there you might be able to draw out the kinds of algorithms that are / aren't appropriate to tackle the solution.  Or something else completely if this isn't the way your project works.\n",
    "\n",
    "### Subsection 2\n",
    "\n",
    "Another likely section is if you are doing any feature selection through cross-validation or hand-design/validation of features/transformations of the data\n",
    "\n",
    "### Subsection 3\n",
    "\n",
    "Probably you need to describe the base model and demonstrate its performance.  Maybe you include a learning curve to show whether you have enough data to do train/validate/test split or have to go to k-folds or LOOCV or ???\n",
    "\n",
    "### Subsection 4\n",
    "\n",
    "Perhaps some exploration of the model selection (hyper-parameters) or algorithm selection task. Validation curves, plots showing the variability of perfromance across folds of the cross-validation, etc. If you're doing one, the outcome of the null hypothesis test or parsimony principle check to show how you are selecting the best model.\n",
    "\n",
    "### Subsection 5 \n",
    "\n",
    "Maybe you do model selection again, but using a different kind of metric than before?\n",
    "\n"
   ]
  },
  {
   "cell_type": "markdown",
   "metadata": {},
   "source": [
    "# Discussion\n",
    "\n",
    "### Interpreting the result\n",
    "\n",
    "OK, you've given us quite a bit of tech informaiton above, now its time to tell us what to pay attention to in all that.  Think clearly about your results, decide on one main point and 2-4 secondary points you want us to understand. Highlight HOW your results support those points.  You probably want 2-5 sentences per point.\n",
    "\n",
    "### Limitations\n",
    "\n",
    "Are there any problems with the work?  For instance would more data change the nature of the problem? Would it be good to explore more hyperparams than you had time for?   \n",
    "\n",
    "### Ethics & Privacy\n",
    "\n",
    "If your project has obvious potential concerns with ethics or data privacy discuss that here.  Almost every ML project put into production can have ethical implications if you use your imagination. Use your imagination.\n",
    "\n",
    "Even if you can't come up with an obvious ethical concern that should be addressed, you should know that a large number of ML projects that go into producation have unintended consequences and ethical problems once in production. How will your team address these issues?\n",
    "\n",
    "Consider a tool to help you address the potential issues such as https://deon.drivendata.org\n",
    "\n",
    "### Conclusion\n",
    "\n",
    "Reiterate your main point and in just a few sentences tell us how your results support it. Mention how this work would fit in the background/context of other work in this field if you can. Suggest directions for future work if you want to."
   ]
  },
  {
   "cell_type": "markdown",
   "metadata": {},
   "source": [
    "# Footnotes\n",
    "<a name=\"lorenznote\"></a>1.[^](#lorenz): Lorenz, T. (9 Dec 2021) Birds Aren’t Real, or Are They? Inside a Gen Z Conspiracy Theory. *The New York Times*. https://www.nytimes.com/2021/12/09/technology/birds-arent-real-gen-z-misinformation.html<br> \n",
    "<a name=\"admonishnote\"></a>2.[^](#admonish): Also refs should be important to the background, not some randomly chosen vaguely related stuff. Include a web link if possible in refs as above.<br>\n",
    "<a name=\"sotanote\"></a>3.[^](#sota): Perhaps the current state of the art solution such as you see on [Papers with code](https://paperswithcode.com/sota). Or maybe not SOTA, but rather a standard textbook/Kaggle solution to this kind of problem\n"
   ]
  },
  {
   "cell_type": "code",
   "execution_count": null,
   "metadata": {},
   "outputs": [],
   "source": []
  }
 ],
 "metadata": {
  "kernelspec": {
   "display_name": "Python 3",
   "language": "python",
   "name": "python3"
  },
  "language_info": {
   "codemirror_mode": {
    "name": "ipython",
    "version": 3
   },
   "file_extension": ".py",
   "mimetype": "text/x-python",
   "name": "python",
   "nbconvert_exporter": "python",
   "pygments_lexer": "ipython3",
   "version": "3.8.8"
  }
 },
 "nbformat": 4,
 "nbformat_minor": 2
}
