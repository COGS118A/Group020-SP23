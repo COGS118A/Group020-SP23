{
 "cells": [
  {
   "attachments": {},
   "cell_type": "markdown",
   "metadata": {},
   "source": [
    "# COGS 118A1. Project Proposal"
   ]
  },
  {
   "attachments": {},
   "cell_type": "markdown",
   "metadata": {},
   "source": [
    "# Project Description\n",
    "\n",
    "You will design and execute a machine learning project. There are a few constraints on the nature of the allowed project. \n",
    "- The problem addressed will not be a \"toy problem\" or \"common training students problem\" like mtcars, iris, palmer penguins etc.\n",
    "- The dataset will have **>1k** observations and **>5** variables. I'd prefer more like ***>10k observations and >10 variables***. A general rule is that if you have >100x more observations than variables, your solution will likely generalize a lot better. The goal of training a supervised machine learning model is to learn the underlying pattern in a dataset in order to generalize well to unseen data, so choosing a large dataset is very important.\n",
    "\n",
    "- The project will include a model selection and/or feature selection component where you will be looking for the best setup to maximize the performance of your ML system.\n",
    "- You will evaluate the performance of your ML system using more than one appropriate metric\n",
    "- You will be writing a report describing and discussing these accomplishments\n",
    "\n",
    "\n",
    "Feel free to delete this description section when you hand in your proposal."
   ]
  },
  {
   "attachments": {},
   "cell_type": "markdown",
   "metadata": {},
   "source": [
    "### Peer Review\n",
    "\n",
    "You will all have an opportunity to look at the Project Proposals of other groups to fuel your creativity and get more ideas for how you can improve your own projects. \n",
    "\n",
    "Both the project proposal and project checkpoint will have peer review."
   ]
  },
  {
   "attachments": {},
   "cell_type": "markdown",
   "metadata": {},
   "source": [
    "# Names\n",
    "\n",
    "Hopefully your team is at least this good. Obviously you should replace these with your names.\n",
    "\n",
    "- Ashesh Kaji\n",
    "- Megha Pareek\n",
    "- Jesus Mendez\n",
    "- Masiah Manzano\n",
    "- Alan Trapenard"
   ]
  },
  {
   "attachments": {},
   "cell_type": "markdown",
   "metadata": {},
   "source": [
    "# Abstract \n",
    "This section should be short and clearly stated. It should be a single paragraph <200 words.  It should summarize: \n",
    "- what your goal/problem is\n",
    "- what the data used represents and how they are measured\n",
    "- what you will be doing with the data\n",
    "- how performance/success will be measured\n",
    "\n",
    "## Response\n",
    "The goal of this project is to predict the price of a house based on the features of the house. We will be using the King County House Sales dataset. The dataset contains information about houses sold in King County, Washington between May 2014 and May 2015. The dataset contains 21,613 observations and 21 variables. The dataset contains information about the location of the house, the number of bedrooms, bathrooms, floors, the condition of the house, the grade of the house, the square footage of the house, the square footage of the lot, the year the house was built, the year the house was renovated, the zipcode of the house, the latitude and longitude of the house, and the price of the house. We will be using the features of the house to predict the price of the house. We will be using the mean squared error to measure the performance of our model tentatively, as we will reconsider metrics as we work upon the data and see what results we come across.\n"
   ]
  },
  {
   "attachments": {},
   "cell_type": "markdown",
   "metadata": {},
   "source": [
    "# Background\n",
    "Housing for students has been a long going issue for many years and what made us want to create a way to help students find housing and have what they need to make a certain decision, is because we deal with this first hand. We know numerous other students who struggle finding a good home. This project is not necessarily to find the cheapest housing for a student, but a tool to be transparent for a student searching for housing and what to expect. There are many factors to what can come with students struggling with finding good housing. But before we dive into this, let’s look at a glimpse of what UCSD students have to deal with<a name=\"UCSD\"></a>[1].[^](#UCSD). The title alone should be a plain example of how hard it is already for students to get housing to simply go to school. There should not be a competition to get a basic human need, which is a home. In 2022, Stefanie Holden took time to investigate how difficult housing situations are for students. This ultimately motivated us to not just focus on UCSD, but all students as a whole, because this issue is not just concentrated here, but everywhere. Students experienced the struggles of student loans and finding affordable housing<a name=\"housing\"></a>2.[^](#housing). In 2016, Gene Aromin, Janice Eberly, and John Mondragon, mention there was a 30% decline in housing but a 38% increase in student debt. Situations like this force students to make horrible financial decisions when it comes to housing because there is no real “upfront” cost and numerous hidden fees. What we want to do with this project is eliminate this anonymity and be very forward with students so they know what financial situation they will be getting themselves into. When covid struck, students were forced to find housing off campus, specifically at the start of the virus when not much was known<a name=\"covid\"></a>2.[^](#covid). Numerous students were forced to cancel contracts and forced to find housing for themselves. Many of these students made rash decisions and just chose housing due to desperation of not knowing what to do. With this project, we aim to eliminate students making rash decisions and to make housing a less stressful choice. Lastly, we want to help students eliminate the need for uncertainty in choosing how to balance their financial plans. UC universities are no stranger to having numerous students who struggle finding housing. But when they do find housing, the students in the long run end up struggling to find and save to pay for said housing<a name=\"jobs\"></a>3.[^](#jobs). Although this project will not help students find jobs, it will however, help students have that extra layer of confirmation on what they will need to do to save enough money to pay for the overall rent since our project aims to have full disclosure on what will be owed by the students and have no hidden fees whatsoever. In doing so, we hope to eliminate the need for students to suffer on finding a suitable job to pay for fees they may have not expected before commiting to a housing contract.\n"
   ]
  },
  {
   "attachments": {},
   "cell_type": "markdown",
   "metadata": {},
   "source": [
    "# Problem Statement\n",
    "\n",
    "Attempting to navigate the ever-complicated and confusing real estate market as a recent college graduate with lofty goals and a desire to enter the world of independence and self-reliability can be quite a demoralizing experience.  Websites like Zillow, Redfin, and Apartments.com certainly don't make this issue any easier as they allow you to filter residences by several parameters but either way will still prioritize showing you the residences that are recommended by them or heavy outliers (Ex: very high square footage but one bedroom and bathroom or extremely low square footage but several rooms) as those are the residences they are trying to sell the most.\n",
    "\n",
    "As a result of this, it can be extremely difficult to understand what you have access to based on your budget or what your budget should look like based on what you want.  This is the precise issue we are attempting to solve.\n",
    "Our project is geared towards absolute transparency.  Our goal is to be able to present realistic price ranges or residence features (bedrooms, bathrooms, etc.) based on the input of the consumer.  Our target audience are recent college graduates who are just beginning their journey into the real world and desire to collect realistic information on their potential housing to feel confident in their decisions instead of being thrown whatever property real estate websites are trying to get off their hands.\n",
    "The results of using our project will be representable in two different ways: a cost value window based on the desired residence features, or a set of average residence features based on the desired price of the residence.\n",
    "To speak to the use of ML in this project, we will be using Linear Regression as well as validation and generalizability measures to make accurate predictions for each of the aforementioned result categories.  The goal of the project isn't just to base everything off of our initial dataset but to provide a framework for future housing cost predictions to allow our target audience to utilize our program even if they are only looking for a property two years ahead of time."
   ]
  },
  {
   "attachments": {},
   "cell_type": "markdown",
   "metadata": {},
   "source": [
    "# Data\n",
    "<!-- \n",
    "You should have a strong idea of what dataset(s) will be used to accomplish this project. \n",
    "\n",
    "If you know what (some) of the data you will use, please give the following information for each dataset:\n",
    "- link/reference to obtain it\n",
    "- description of the size of the dataset (# of variables, # of observations)\n",
    "- what an observation consists of\n",
    "- what some critical variables are, how they are represented\n",
    "- any special handling, transformations, cleaning, etc will be needed\n",
    "\n",
    "If you don't yet know what your dataset(s) will be, you should describe what you desire in terms of the above bullets. -->\n",
    "- The link to the dataset we found is: https://www.kaggle.com/datasets/harlfoxem/housesalesprediction?search=Column+defin\n",
    "- The dataset contains 21 variables and 21,613 observations which perfectly correlates with the recommended ratio of variables to observations\n",
    "- Observations consist of information on the quantity of bedrooms, bathrooms, square footage of both lot and living space, view rating, waterfront statue, etc.\n",
    "- The critical variables we are working with are the common measures of a house when looking to purchase (bedrooms, bathrooms, square footage, waterfront, and view rating).\n",
    "- With the exception of waterfront, all the variables are numeric (view is ordinal but still numeric) and will be represented as such.\n",
    "- The only transformation that will be necessary will be one-hot encoding waterfront status as it is a categorical variable."
   ]
  },
  {
   "attachments": {},
   "cell_type": "markdown",
   "metadata": {},
   "source": [
    "# Proposed Solution\n",
    "\n",
    "In this section, clearly describe a solution to the problem. The solution should be applicable to the project domain and appropriate for the dataset(s) or input(s) given. Provide enough detail (e.g., algorithmic description and/or theoretical properties) to convince us that your solution is applicable. Why might your solution work? Make sure to describe how the solution will be tested.  \n",
    "\n",
    "If you know details already, describe how (e.g., library used, function calls) you plan to implement the solution in a way that is reproducible.\n",
    "\n",
    "If it is appropriate to the problem statement, describe a benchmark model<a name=\"sota\"></a>[<sup>[3]</sup>](#sotanote) against which your solution will be compared. \n",
    "## Response\n",
    "Our solution will attempt to use a piecewise machine learning model that will separate the features into groups that particlar algorithms will apply to better. This will involve separating the location coordinates and zip codes from other factors like square feet area and number of bedrooms. Furthermore, we will one-hot encode the categorical variables like waterfront and view. We will also use a linear regression model to predict the price of the house. While we have not practically attampted applying the solutions, we might attempt grouping sets of locations based on zip codes or coordinates that refer to particular house price categories and then use a linear regression model that pertains to that area to accurately predict the price for the house with the input properties from the test set.\n",
    "\n",
    "A benchmark model we might use is a model available on the datasets code on kaggle. They use a multitude of algorithms for the dataset, so we will compare with the respective model."
   ]
  },
  {
   "attachments": {},
   "cell_type": "markdown",
   "metadata": {},
   "source": [
    "# Evaluation Metrics\n",
    "\n",
    "<!-- Propose at least one evaluation metric that can be used to quantify the performance of both the benchmark model and the solution model. The evaluation metric(s) you propose should be appropriate given the context of the data, the problem statement, and the intended solution. Describe how the evaluation metric(s) are derived and provide an example of their mathematical representations (if applicable). Complex evaluation metrics should be clearly defined and quantifiable (can be expressed in mathematical or logical terms). -->\n",
    "\n",
    "We will be using the mean squared error to measure the performance of our model tentatively, as we will reconsider metrics as we work upon the data and see what results we come across. We will be using the mean squared error because it is a good metric to use when we are trying to predict the price of a house. The mean squared error is the average of the squared differences between the predicted and actual values. The mean squared error is calculated by taking the difference between the predicted and actual values, squaring the difference, and then taking the average of the squared differences. The mean squared error is a good metric to use because it penalizes large errors more than small errors. The mean squared error is calculated by the following formula:\n",
    "$$\n",
    "MSE = \\frac{1}{n}\\sum_{i=1}^{n}(y_i - \\hat{y}_i)^2\n",
    "$$\n",
    "where $y_i$ is the actual value and $\\hat{y}_i$ is the predicted value."
   ]
  },
  {
   "attachments": {},
   "cell_type": "markdown",
   "metadata": {},
   "source": [
    "# Ethics & Privacy"
   ]
  },
  {
   "attachments": {},
   "cell_type": "markdown",
   "metadata": {},
   "source": [
    "If your project has obvious potential concerns with ethics or data privacy discuss that here.  Almost every ML project put into production can have ethical implications if you use your imagination. Use your imagination. Get creative!\n",
    "\n",
    "Even if you can't come up with an obvious ethical concern that should be addressed, you should know that a large number of ML projects that go into producation have unintended consequences and ethical problems once in production. How will your team address these issues?\n",
    "\n",
    "Consider a tool to help you address the potential issues such as https://deon.drivendata.org\n",
    "\n",
    "### Dataset Privacy\n",
    "\n",
    "The dataset we have chosen includes specific details about houses but the real identities of pricing and ownership have been anonymized by the dataset provider. We will not be using any other datasets that contain personal information. Furthermore, the locations and information mentioned in the dataset of mapping locations are publicly open, hence they do not raise any particular privacy concers."
   ]
  },
  {
   "attachments": {},
   "cell_type": "markdown",
   "metadata": {},
   "source": [
    "# Team Expectations "
   ]
  },
  {
   "attachments": {},
   "cell_type": "markdown",
   "metadata": {},
   "source": [
    "Put things here that cement how you will interact/communicate as a team, how you will handle conflict and difficulty, how you will handle making decisions and setting goals/schedule, how much work you expect from each other, how you will handle deadlines, etc...\n",
    "### Answer\n",
    "* *Communication among team members*\n",
    "* *Try to show up to most meetings*\n",
    "* *Be blatant when trying to deal with conflict, its better to have it out than cause tension*\n",
    "* *Set expectations for each member so there is maximum efficiency and less confusion about work*\n",
    "* *Set deadlines for each member so that we can keep each other accountable*\n",
    "* *Be open to criticism and feedback*\n",
    "\n"
   ]
  },
  {
   "attachments": {},
   "cell_type": "markdown",
   "metadata": {},
   "source": [
    "# Project Timeline Proposal"
   ]
  },
  {
   "attachments": {},
   "cell_type": "markdown",
   "metadata": {},
   "source": [
    "Replace this with something meaningful that is appropriate for your needs. It doesn't have to be something that fits this format.  It doesn't have to be set in stone... \"no battle plan survives contact with the enemy\". But you need a battle plan nonetheless, and you need to keep it updated so you understand what you are trying to accomplish, who's responsible for what, and what the expected due dates are for each item.\n",
    "\n",
    "1. We intend on meeting every Monday after class \n",
    "2. Weekly check-in with the instruction team to discuss updates, ideas and concerns to help understanding \n",
    "3. Complete proposal by Tuesday, 16/5 evening \n",
    "4. On Wednesday, 17/5 meet with Professor to discuss project idea and finalise project proposal \n",
    "5. After recieving feedback regarding Project proposal, meet as a team and discuss next steps \n",
    "6. By 29/5 complete checkpoint leaving 2 days for major changes and feedback \n",
    "7. After recieving feedback regarding checkpoint, meet as a team and discuss next steps and assign tasks \n",
    "8. Complete major chunk of project before finals week(6/10), leaving space to study for other exams and discussing concerns with instructional team \n",
    "9. Meet as a team to finalise project and discuss any missing parts\n",
    "10. Submit final project (6/14)"
   ]
  },
  {
   "attachments": {},
   "cell_type": "markdown",
   "metadata": {},
   "source": [
    "# Footnotes\n",
    "<a name=\"housing\"></a>2.[^](#housing): Stefanie Holdenl. (13 July 2022) Opinion: How scarce is housing for UCSD students? I stood in a line of 47 to see an apartment.. *The San Diego Union Tribune*. https://www.sandiegouniontribune.com/opinion/commentary/story/2022-07-13/uc-san-diego-student-housing-gentrification<br> \n",
    "<a name=\"housing\"></a>2.[^](#housing): Amromin, Gene et al. (9 Dec 2021) The Housing Crisis and the Rise in Student Loans. *Preliminiary and incomplete*. https://economicdynamics.org/meetpapers/2017/paper_369.pdf<br> \n",
    "<a name=\"covid\"></a>3.[^](#covid): Greta Anderson. (30 April 2020) Stuck With Off-Campus Housing. *Inside Higher Ed* https://www.insidehighered.com/news/2020/05/01/students-campus-housing-struggle-make-rent<br>\n",
    "<a name=\"jobs\"></a>4.[^](#jobs): Teresa Watanabe. (26 September 2022) UC housing crisis forces students into multiple jobs to pay rent, sleeping bags and stress *Los Angeles Times* https://www.latimes.com/california/story/2022-09-26/college-housing-shortage-pushes-students-into-crisis-as-most-uc-classes-start-up<br>\n"
   ]
  }
 ],
 "metadata": {
  "kernelspec": {
   "display_name": "Python 3",
   "language": "python",
   "name": "python3"
  },
  "language_info": {
   "codemirror_mode": {
    "name": "ipython",
    "version": 3
   },
   "file_extension": ".py",
   "mimetype": "text/x-python",
   "name": "python",
   "nbconvert_exporter": "python",
   "pygments_lexer": "ipython3",
   "version": "3.8.8"
  }
 },
 "nbformat": 4,
 "nbformat_minor": 2
}
