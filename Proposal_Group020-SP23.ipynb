{
 "cells": [
  {
   "attachments": {},
   "cell_type": "markdown",
   "metadata": {},
   "source": [
    "# COGS 118A1. Project Proposal"
   ]
  },
  {
   "attachments": {},
   "cell_type": "markdown",
   "metadata": {},
   "source": [
    "# Project Description\n",
    "\n",
    "You will design and execute a machine learning project. There are a few constraints on the nature of the allowed project. \n",
    "- The problem addressed will not be a \"toy problem\" or \"common training students problem\" like mtcars, iris, palmer penguins etc.\n",
    "- The dataset will have **>1k** observations and **>5** variables. I'd prefer more like ***>10k observations and >10 variables***. A general rule is that if you have >100x more observations than variables, your solution will likely generalize a lot better. The goal of training a supervised machine learning model is to learn the underlying pattern in a dataset in order to generalize well to unseen data, so choosing a large dataset is very important.\n",
    "\n",
    "- The project will include a model selection and/or feature selection component where you will be looking for the best setup to maximize the performance of your ML system.\n",
    "- You will evaluate the performance of your ML system using more than one appropriate metric\n",
    "- You will be writing a report describing and discussing these accomplishments\n",
    "\n",
    "\n",
    "Feel free to delete this description section when you hand in your proposal."
   ]
  },
  {
   "attachments": {},
   "cell_type": "markdown",
   "metadata": {},
   "source": [
    "### Peer Review\n",
    "\n",
    "You will all have an opportunity to look at the Project Proposals of other groups to fuel your creativity and get more ideas for how you can improve your own projects. \n",
    "\n",
    "Both the project proposal and project checkpoint will have peer review."
   ]
  },
  {
   "attachments": {},
   "cell_type": "markdown",
   "metadata": {},
   "source": [
    "# Names\n",
    "\n",
    "Hopefully your team is at least this good. Obviously you should replace these with your names.\n",
    "\n",
    "- Ashesh Kaji\n",
    "- Megha Pareek\n",
    "- Jesus Mendez\n",
    "- Masiah Manzano\n",
    "- Alan Trapenard"
   ]
  },
  {
   "attachments": {},
   "cell_type": "markdown",
   "metadata": {},
   "source": [
    "# Abstract \n",
    "This section should be short and clearly stated. It should be a single paragraph <200 words.  It should summarize: \n",
    "- what your goal/problem is\n",
    "- what the data used represents and how they are measured\n",
    "- what you will be doing with the data\n",
    "- how performance/success will be measured\n",
    "\n",
    "## Goal\n",
    "The goal of this project is to predict the price of a house based on the features of the house. We will be using the King County House Sales dataset. The dataset contains information about houses sold in King County, Washington between May 2014 and May 2015. The dataset contains 21,613 observations and 21 variables. The dataset contains information about the location of the house, the number of bedrooms, bathrooms, floors, the condition of the house, the grade of the house, the square footage of the house, the square footage of the lot, the year the house was built, the year the house was renovated, the zipcode of the house, the latitude and longitude of the house, and the price of the house. We will be using the features of the house to predict the price of the house. We will be using the mean squared error to measure the performance of our model.\n"
   ]
  },
  {
   "attachments": {},
   "cell_type": "markdown",
   "metadata": {},
   "source": [
    "# Background\n",
    "\n",
    "****Fill in the background and discuss the kind of prior work that has gone on in this research area here. **Use inline citation** to specify which references support which statements.  You can do that through HTML footnotes (demonstrated here). I used to reccommend Markdown footnotes (google is your friend) because they are simpler but recently I have had some problems with them working for me whereas HTML ones always work so far. So use the method that works for you, but do use inline citations.\n",
    "\n",
    "*****Here is an example of inline citation. After government genocide in the 20th century, real birds were replaced with surveillance drones designed to look just like birds<a name=\"lorenz\"></a>[<sup>[1]</sup>](#lorenznote). Use a minimum of 2 or 3 citations, but we prefer more <a name=\"admonish\"></a>[<sup>[2]</sup>](#admonishnote). You need enough citations to fully explain and back up important facts. \n",
    "\n",
    "Housing for students has been a long going issue for many years and what made us want to create a way to help students find housing and have what they need to make a certain decision is because we deal with this first hand. We know numerous other students who struggle finding a good home. This project is not necessarily to find the cheapest housing for a student, but a tool to be transparent for a student searching for housing and what to expect. There are many factors to what can come with students struggling with finding good housing. Students experienced the struggles of student loans and finding affordable housing [1] (Gotta fix the inline citation https://economicdynamics.org/meetpapers/2017/paper_369.pdf). In 2016, Gene Aromin, Janice Eberly, and John Mondragon, mention there was a 30% decline in housing but a 38% increase in student debt. Situations like this force students to make horrible financial decisions when it comes to housing because there is no real “upfront” cost and numerous hidden fees. What we want to do with this project is eliminate this anonymity and be very forward with students so they know what financial situation they will be getting themselves into. When covid struck, students were forced to find housing off campus, specifically at the start of the virus when not much was known [2] (https://www.insidehighered.com/news/2020/05/01/students-campus-housing-struggle-make-rent). Numerous students were forced to cancel contracts and forced to find housing for themselves. Many of these students made rash decisions and just chose housing due to desperation of not knowing what to do. With this project, we aim to eliminate students making rash decisions and to make housing a less stressful choice. \n",
    "\n",
    "## Background Citations\n"
   ]
  },
  {
   "attachments": {},
   "cell_type": "markdown",
   "metadata": {},
   "source": [
    "# Problem Statement\n",
    "\n",
    "Clearly describe the problem that you are solving. Avoid ambiguous words. The problem described should be well defined and should have at least one ML-relevant potential solution. Additionally, describe the problem thoroughly such that it is clear that the problem is quantifiable (the problem can be expressed in mathematical or logical terms), measurable (the problem can be measured by some metric and clearly observed), and replicable (the problem can be reproduced and occurs more than once)."
   ]
  },
  {
   "attachments": {},
   "cell_type": "markdown",
   "metadata": {},
   "source": [
    "# Data\n",
    "\n",
    "You should have a strong idea of what dataset(s) will be used to accomplish this project. \n",
    "\n",
    "If you know what (some) of the data you will use, please give the following information for each dataset:\n",
    "- link/reference to obtain it\n",
    "- description of the size of the dataset (# of variables, # of observations)\n",
    "- what an observation consists of\n",
    "- what some critical variables are, how they are represented\n",
    "- any special handling, transformations, cleaning, etc will be needed\n",
    "\n",
    "If you don't yet know what your dataset(s) will be, you should describe what you desire in terms of the above bullets.",
    "\n",
    "The link to the dataset we found is: https://www.kaggle.com/datasets/harlfoxem/housesalesprediction?search=Column+defin.",  
    "The dataset contains 21 variables and 21,613 observations which perfectly correlates with the recommended ratio of variables to observations.",  
    "Observations consist of information on the quantity of bedrooms, bathrooms, square footage of both lot and living space, view rating, waterfront status, etc.",
    "The critical variables we are working with are the common measures of a house (bedrooms, bathrooms, square footage, waterfront, and view rating)",
    "With the exception of waterfront, all the variables are numeric (view is ordinal but still numeric) and will be represented as such.",
    "The only transformation that will be necessary will be one-hot encoding waterfront status as it is a categorical variable.  Otherwise every other variable is in a perfect format."
   ]
  },
  {
   "attachments": {},
   "cell_type": "markdown",
   "metadata": {},
   "source": [
    "# Proposed Solution\n",
    "\n",
    "In this section, clearly describe a solution to the problem. The solution should be applicable to the project domain and appropriate for the dataset(s) or input(s) given. Provide enough detail (e.g., algorithmic description and/or theoretical properties) to convince us that your solution is applicable. Why might your solution work? Make sure to describe how the solution will be tested.  \n",
    "\n",
    "If you know details already, describe how (e.g., library used, function calls) you plan to implement the solution in a way that is reproducible.\n",
    "\n",
    "If it is appropriate to the problem statement, describe a benchmark model<a name=\"sota\"></a>[<sup>[3]</sup>](#sotanote) against which your solution will be compared. "
   ]
  },
  {
   "attachments": {},
   "cell_type": "markdown",
   "metadata": {},
   "source": [
    "# Evaluation Metrics\n",
    "\n",
    "Propose at least one evaluation metric that can be used to quantify the performance of both the benchmark model and the solution model. The evaluation metric(s) you propose should be appropriate given the context of the data, the problem statement, and the intended solution. Describe how the evaluation metric(s) are derived and provide an example of their mathematical representations (if applicable). Complex evaluation metrics should be clearly defined and quantifiable (can be expressed in mathematical or logical terms)."
   ]
  },
  {
   "attachments": {},
   "cell_type": "markdown",
   "metadata": {},
   "source": [
    "# Ethics & Privacy"
   ]
  },
  {
   "attachments": {},
   "cell_type": "markdown",
   "metadata": {},
   "source": [
    "If your project has obvious potential concerns with ethics or data privacy discuss that here.  Almost every ML project put into production can have ethical implications if you use your imagination. Use your imagination. Get creative!\n",
    "\n",
    "Even if you can't come up with an obvious ethical concern that should be addressed, you should know that a large number of ML projects that go into producation have unintended consequences and ethical problems once in production. How will your team address these issues?\n",
    "\n",
    "Consider a tool to help you address the potential issues such as https://deon.drivendata.org\n",
    "\n",
    "### Dataset Privacy\n",
    "\n",
    "The dataset we have chosen includes specific details about houses but the real identities of pricing and ownership have been anonymized by the dataset provider. We will not be using any other datasets that contain personal information. Furthermore, the locations and information mentioned in the dataset of mapping locations are publicly open, hence they do not raise any particular privacy concers."
   ]
  },
  {
   "attachments": {},
   "cell_type": "markdown",
   "metadata": {},
   "source": [
    "# Team Expectations "
   ]
  },
  {
   "attachments": {},
   "cell_type": "markdown",
   "metadata": {},
   "source": [
    "Put things here that cement how you will interact/communicate as a team, how you will handle conflict and difficulty, how you will handle making decisions and setting goals/schedule, how much work you expect from each other, how you will handle deadlines, etc...\n",
    "### Answer\n",
    "* *Communication among team members*\n",
    "* *Try to show up to most meetings*\n",
    "* *Be blatant when trying to deal with conflict, its better to have it out than cause tension*\n",
    "* *Set expectations for each member so there is maximum efficiency and less confusion about work*\n",
    "* *Set deadlines for each member so that we can keep each other accountable*\n",
    "* *Be open to criticism and feedback*\n",
    "\n"
   ]
  },
  {
   "attachments": {},
   "cell_type": "markdown",
   "metadata": {},
   "source": [
    "# Project Timeline Proposal"
   ]
  },
  {
   "attachments": {},
   "cell_type": "markdown",
   "metadata": {},
   "source": [
    "Replace this with something meaningful that is appropriate for your needs. It doesn't have to be something that fits this format.  It doesn't have to be set in stone... \"no battle plan survives contact with the enemy\". But you need a battle plan nonetheless, and you need to keep it updated so you understand what you are trying to accomplish, who's responsible for what, and what the expected due dates are for each item.\n",
    "\n",
    "1. We intend on meeting every Monday after class \n",
    "2. Weekly check-in with the instruction team to discuss updates, ideas and concerns to help understanding \n",
    "3. Complete proposal by Tuesday, 16/5 evening \n",
    "4. On Wednesday, 17/5 meet with Professor to discuss project idea and finalise project proposal \n",
    "5. After recieving feedback regarding Project proposal, meet as a team and discuss next steps \n",
    "6. By 29/5 complete checkpoint leaving 2 days for major changes and feedback \n",
    "7. After recieving feedback regarding checkpoint, meet as a team and discuss next steps and assign tasks \n",
    "8. Complete major chunk of project before finals week(6/10), leaving space to study for other exams and discussing concerns with instructional team \n",
    "9. Meet as a team to finalise project and discuss any missing parts\n",
    "10. Submit final project (6/14)"
   ]
  },
  {
   "attachments": {},
   "cell_type": "markdown",
   "metadata": {},
   "source": [
    "# Footnotes\n",
    "<a name=\"lorenznote\"></a>1.[^](#lorenz): Lorenz, T. (9 Dec 2021) Birds Aren’t Real, or Are They? Inside a Gen Z Conspiracy Theory. *The New York Times*. https://www.nytimes.com/2021/12/09/technology/birds-arent-real-gen-z-misinformation.html<br> \n",
    "<a name=\"admonishnote\"></a>2.[^](#admonish): Also refs should be important to the background, not some randomly chosen vaguely related stuff. Include a web link if possible in refs as above.<br>\n",
    "<a name=\"sotanote\"></a>3.[^](#sota): Perhaps the current state of the art solution such as you see on [Papers with code](https://paperswithcode.com/sota). Or maybe not SOTA, but rather a standard textbook/Kaggle solution to this kind of problem\n"
   ]
  },
  {
   "cell_type": "code",
   "execution_count": null,
   "metadata": {},
   "outputs": [],
   "source": []
  }
 ],
 "metadata": {
  "kernelspec": {
   "display_name": "Python 3",
   "language": "python",
   "name": "python3"
  },
  "language_info": {
   "codemirror_mode": {
    "name": "ipython",
    "version": 3
   },
   "file_extension": ".py",
   "mimetype": "text/x-python",
   "name": "python",
   "nbconvert_exporter": "python",
   "pygments_lexer": "ipython3",
   "version": "3.8.8"
  }
 },
 "nbformat": 4,
 "nbformat_minor": 2
}
